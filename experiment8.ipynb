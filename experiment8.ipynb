{
 "cells": [
  {
   "cell_type": "code",
   "execution_count": 1,
   "metadata": {},
   "outputs": [
    {
     "name": "stdout",
     "output_type": "stream",
     "text": [
      "Files already downloaded and verified\n",
      "Files already downloaded and verified\n"
     ]
    },
    {
     "name": "stderr",
     "output_type": "stream",
     "text": [
      "d:\\Installed-Softwares\\Anaconda\\envs\\gpu_torch\\lib\\site-packages\\torchvision\\models\\_utils.py:208: UserWarning: The parameter 'pretrained' is deprecated since 0.13 and may be removed in the future, please use 'weights' instead.\n",
      "  warnings.warn(\n",
      "d:\\Installed-Softwares\\Anaconda\\envs\\gpu_torch\\lib\\site-packages\\torchvision\\models\\_utils.py:223: UserWarning: Arguments other than a weight enum or `None` for 'weights' are deprecated since 0.13 and may be removed in the future. The current behavior is equivalent to passing `weights=ResNet50_Weights.IMAGENET1K_V1`. You can also use `weights=ResNet50_Weights.DEFAULT` to get the most up-to-date weights.\n",
      "  warnings.warn(msg)\n"
     ]
    },
    {
     "name": "stdout",
     "output_type": "stream",
     "text": [
      "Epoch [1/10], Loss: 1.6988, Accuracy: 0.3996\n",
      "Epoch [2/10], Loss: 1.5618, Accuracy: 0.4474\n",
      "Epoch [3/10], Loss: 1.5267, Accuracy: 0.4608\n",
      "Epoch [4/10], Loss: 1.4977, Accuracy: 0.4737\n",
      "Epoch [5/10], Loss: 1.4867, Accuracy: 0.4755\n",
      "Epoch [6/10], Loss: 1.4632, Accuracy: 0.4832\n",
      "Epoch [7/10], Loss: 1.4466, Accuracy: 0.4884\n",
      "Epoch [8/10], Loss: 1.4371, Accuracy: 0.4969\n",
      "Epoch [9/10], Loss: 1.4259, Accuracy: 0.4975\n",
      "Epoch [10/10], Loss: 1.4233, Accuracy: 0.4985\n",
      "Training complete.\n",
      "Model weights saved successfully.\n",
      "Model weights loaded successfully.\n"
     ]
    },
    {
     "name": "stderr",
     "output_type": "stream",
     "text": [
      "C:\\Users\\naman\\AppData\\Local\\Temp\\ipykernel_29972\\2376719608.py:87: FutureWarning: You are using `torch.load` with `weights_only=False` (the current default value), which uses the default pickle module implicitly. It is possible to construct malicious pickle data which will execute arbitrary code during unpickling (See https://github.com/pytorch/pytorch/blob/main/SECURITY.md#untrusted-models for more details). In a future release, the default value for `weights_only` will be flipped to `True`. This limits the functions that could be executed during unpickling. Arbitrary objects will no longer be allowed to be loaded via this mode unless they are explicitly allowlisted by the user via `torch.serialization.add_safe_globals`. We recommend you start setting `weights_only=True` for any use case where you don't have full control of the loaded file. Please open an issue on GitHub for any issues related to this experimental feature.\n",
      "  model.load_state_dict(torch.load(\"cifar10_transfer_learning_weights.pth\"))\n"
     ]
    },
    {
     "name": "stdout",
     "output_type": "stream",
     "text": [
      "Test Accuracy: 0.5308\n"
     ]
    },
    {
     "name": "stderr",
     "output_type": "stream",
     "text": [
      "C:\\Users\\naman\\AppData\\Local\\Temp\\ipykernel_29972\\2376719608.py:111: FutureWarning: You are using `torch.load` with `weights_only=False` (the current default value), which uses the default pickle module implicitly. It is possible to construct malicious pickle data which will execute arbitrary code during unpickling (See https://github.com/pytorch/pytorch/blob/main/SECURITY.md#untrusted-models for more details). In a future release, the default value for `weights_only` will be flipped to `True`. This limits the functions that could be executed during unpickling. Arbitrary objects will no longer be allowed to be loaded via this mode unless they are explicitly allowlisted by the user via `torch.serialization.add_safe_globals`. We recommend you start setting `weights_only=True` for any use case where you don't have full control of the loaded file. Please open an issue on GitHub for any issues related to this experimental feature.\n",
      "  model.load_state_dict(torch.load(\"cifar10_transfer_learning_weights.pth\"))\n"
     ]
    },
    {
     "name": "stdout",
     "output_type": "stream",
     "text": [
      "Predicted: [5 8 9 0 6]\n",
      "True Labels: [3 8 8 0 6]\n"
     ]
    }
   ],
   "source": [
    "import torch\n",
    "import torch.nn as nn\n",
    "import torch.optim as optim\n",
    "from torchvision import datasets, models, transforms\n",
    "from torch.utils.data import DataLoader\n",
    "import numpy as np\n",
    "\n",
    "# Set device\n",
    "device = torch.device(\"cuda\" if torch.cuda.is_available() else \"cpu\")\n",
    "\n",
    "# CIFAR-10 dataset preprocessing\n",
    "transform = transforms.Compose([\n",
    "    transforms.Resize((32, 32)),\n",
    "    transforms.ToTensor(),\n",
    "    transforms.Normalize(mean=[0.5, 0.5, 0.5], std=[0.5, 0.5, 0.5])\n",
    "])\n",
    "\n",
    "# Load CIFAR-10 dataset\n",
    "train_dataset = datasets.CIFAR10(root='./data', train=True, download=True, transform=transform)\n",
    "test_dataset = datasets.CIFAR10(root='./data', train=False, download=True, transform=transform)\n",
    "\n",
    "train_loader = DataLoader(train_dataset, batch_size=64, shuffle=True, num_workers=2)\n",
    "test_loader = DataLoader(test_dataset, batch_size=64, shuffle=False, num_workers=2)\n",
    "\n",
    "# Load pre-trained ResNet50 model\n",
    "base_model = models.resnet50(pretrained=True)\n",
    "\n",
    "# Freeze the layers of the base model\n",
    "for param in base_model.parameters():\n",
    "    param.requires_grad = False\n",
    "\n",
    "# Modify the classifier for CIFAR-10 (10 classes)\n",
    "num_features = base_model.fc.in_features\n",
    "base_model.fc = nn.Sequential(\n",
    "    nn.Linear(num_features, 1024),\n",
    "    nn.ReLU(),\n",
    "    nn.Dropout(0.5),\n",
    "    nn.Linear(1024, 10)\n",
    ")\n",
    "\n",
    "base_model = base_model.to(device)\n",
    "\n",
    "# Loss and optimizer\n",
    "criterion = nn.CrossEntropyLoss()\n",
    "optimizer = optim.Adam(base_model.fc.parameters(), lr=0.001)\n",
    "\n",
    "# Training the model\n",
    "def train_model(model, criterion, optimizer, train_loader, num_epochs=10):\n",
    "    model.train()\n",
    "    for epoch in range(num_epochs):\n",
    "        running_loss = 0.0\n",
    "        correct = 0\n",
    "        total = 0\n",
    "\n",
    "        for images, labels in train_loader:\n",
    "            images, labels = images.to(device), labels.to(device)\n",
    "\n",
    "            # Forward pass\n",
    "            outputs = model(images)\n",
    "            loss = criterion(outputs, labels)\n",
    "\n",
    "            # Backward pass and optimization\n",
    "            optimizer.zero_grad()\n",
    "            loss.backward()\n",
    "            optimizer.step()\n",
    "\n",
    "            running_loss += loss.item() * images.size(0)\n",
    "            _, predicted = outputs.max(1)\n",
    "            total += labels.size(0)\n",
    "            correct += (predicted == labels).sum().item()\n",
    "\n",
    "        epoch_loss = running_loss / len(train_loader.dataset)\n",
    "        epoch_acc = correct / total\n",
    "        print(f\"Epoch [{epoch+1}/{num_epochs}], Loss: {epoch_loss:.4f}, Accuracy: {epoch_acc:.4f}\")\n",
    "\n",
    "    print(\"Training complete.\")\n",
    "    return model\n",
    "\n",
    "# Train and save weights\n",
    "trained_model = train_model(base_model, criterion, optimizer, train_loader, num_epochs=10)\n",
    "torch.save(trained_model.state_dict(), \"cifar10_transfer_learning_weights.pth\")\n",
    "print(\"Model weights saved successfully.\")\n",
    "\n",
    "# Load weights and evaluate\n",
    "def evaluate_model(model, test_loader):\n",
    "    model.eval()\n",
    "    model.load_state_dict(torch.load(\"cifar10_transfer_learning_weights.pth\"))\n",
    "    model = model.to(device)\n",
    "    print(\"Model weights loaded successfully.\")\n",
    "\n",
    "    correct = 0\n",
    "    total = 0\n",
    "\n",
    "    with torch.no_grad():\n",
    "        for images, labels in test_loader:\n",
    "            images, labels = images.to(device), labels.to(device)\n",
    "            outputs = model(images)\n",
    "            _, predicted = outputs.max(1)\n",
    "            total += labels.size(0)\n",
    "            correct += (predicted == labels).sum().item()\n",
    "\n",
    "    accuracy = correct / total\n",
    "    print(f\"Test Accuracy: {accuracy:.4f}\")\n",
    "\n",
    "# Evaluate the loaded model\n",
    "evaluate_model(base_model, test_loader)\n",
    "\n",
    "# Perform predictions\n",
    "def predict_sample(model, test_loader):\n",
    "    model.eval()\n",
    "    model.load_state_dict(torch.load(\"cifar10_transfer_learning_weights.pth\"))\n",
    "    model = model.to(device)\n",
    "\n",
    "    with torch.no_grad():\n",
    "        for images, labels in test_loader:\n",
    "            images, labels = images.to(device), labels.to(device)\n",
    "            outputs = model(images)\n",
    "            _, predicted = outputs.max(1)\n",
    "            print(\"Predicted:\", predicted[:5].cpu().numpy())\n",
    "            print(\"True Labels:\", labels[:5].cpu().numpy())\n",
    "            break\n",
    "\n",
    "predict_sample(base_model, test_loader)"
   ]
  },
  {
   "cell_type": "code",
   "execution_count": 1,
   "metadata": {},
   "outputs": [
    {
     "data": {
      "image/png": "[encoded data removed]",
      "text/plain": [
       "<Figure size 800x600 with 1 Axes>"
      ]
     },
     "metadata": {},
     "output_type": "display_data"
    }
   ],
   "source": [
    "import matplotlib.pyplot as plt\n",
    "import numpy as np\n",
    "\n",
    "# Predicted and True Labels\n",
    "predicted = [5, 8, 9, 0, 6]\n",
    "true_labels = [3, 8, 8, 0, 6]\n",
    "\n",
    "# Plotting predicted vs true labels\n",
    "def plot_predictions(predicted, true_labels):\n",
    "    x = np.arange(len(predicted))  # Number of samples (indices)\n",
    "    width = 0.35  # Bar width\n",
    "\n",
    "    plt.figure(figsize=(8, 6))\n",
    "\n",
    "    # Bar chart for true and predicted labels\n",
    "    plt.bar(x - width/2, true_labels, width, label='True Labels', color='green', alpha=0.7)\n",
    "    plt.bar(x + width/2, predicted, width, label='Predicted Labels', color='blue', alpha=0.7)\n",
    "\n",
    "    # Labeling the plot\n",
    "    plt.title('Predicted vs True Labels')\n",
    "    plt.xlabel('Sample Index')\n",
    "    plt.ylabel('Class Labels')\n",
    "    plt.xticks(x)\n",
    "    plt.legend()\n",
    "\n",
    "    # Adding grid for better visibility\n",
    "    plt.grid(axis='y', linestyle='--', alpha=0.7)\n",
    "\n",
    "    # Show plot\n",
    "    plt.tight_layout()\n",
    "    plt.show()\n",
    "\n",
    "# Call the function to plot\n",
    "plot_predictions(predicted, true_labels)\n"
   ]
  }
 ],
 "metadata": {
  "kernelspec": {
   "display_name": "Python 3",
   "language": "python",
   "name": "python3"
  },
  "language_info": {
   "codemirror_mode": {
    "name": "ipython",
    "version": 3
   },
   "file_extension": ".py",
   "mimetype": "text/x-python",
   "name": "python",
   "nbconvert_exporter": "python",
   "pygments_lexer": "ipython3",
   "version": "3.11.5"
  }
 },
 "nbformat": 4,
 "nbformat_minor": 2
}
